{
 "cells": [
  {
   "cell_type": "code",
   "execution_count": 246,
   "metadata": {},
   "outputs": [],
   "source": [
    "import pandas as pd\n",
    "import matplotlib.pyplot as plt\n",
    "import seaborn as sns\n",
    "import numpy as np\n",
    "import warnings\n",
    "import matplotlib.ticker as ticker\n",
    "warnings.filterwarnings('ignore')"
   ]
  },
  {
   "cell_type": "markdown",
   "metadata": {},
   "source": [
    "### Задание 1. \n",
    "Провести предобработку данных. Особое внимание следует уделить столбцам «age» и «Дата первого занятия»."
   ]
  },
  {
   "cell_type": "markdown",
   "metadata": {},
   "source": [
    "Импортируем предоставленные файлы и выведем основную информацию. "
   ]
  },
  {
   "cell_type": "code",
   "execution_count": 247,
   "metadata": {},
   "outputs": [
    {
     "name": "stdout",
     "output_type": "stream",
     "text": [
      "<class 'pandas.core.frame.DataFrame'>\n",
      "RangeIndex: 2172 entries, 0 to 2171\n",
      "Data columns (total 5 columns):\n",
      " #   Column                Non-Null Count  Dtype  \n",
      "---  ------                --------------  -----  \n",
      " 0   id                    2172 non-null   int64  \n",
      " 1   age                   2022 non-null   float64\n",
      " 2   Дата первого занятия  2172 non-null   object \n",
      " 3   Курс                  2172 non-null   object \n",
      " 4   М2                    2172 non-null   int64  \n",
      "dtypes: float64(1), int64(2), object(2)\n",
      "memory usage: 85.0+ KB\n"
     ]
    },
    {
     "data": {
      "text/html": [
       "<div>\n",
       "<style scoped>\n",
       "    .dataframe tbody tr th:only-of-type {\n",
       "        vertical-align: middle;\n",
       "    }\n",
       "\n",
       "    .dataframe tbody tr th {\n",
       "        vertical-align: top;\n",
       "    }\n",
       "\n",
       "    .dataframe thead th {\n",
       "        text-align: right;\n",
       "    }\n",
       "</style>\n",
       "<table border=\"1\" class=\"dataframe\">\n",
       "  <thead>\n",
       "    <tr style=\"text-align: right;\">\n",
       "      <th></th>\n",
       "      <th>id</th>\n",
       "      <th>age</th>\n",
       "      <th>Дата первого занятия</th>\n",
       "      <th>Курс</th>\n",
       "      <th>М2</th>\n",
       "    </tr>\n",
       "  </thead>\n",
       "  <tbody>\n",
       "    <tr>\n",
       "      <th>0</th>\n",
       "      <td>2538</td>\n",
       "      <td>11.0</td>\n",
       "      <td>28.02.2021</td>\n",
       "      <td>Unity</td>\n",
       "      <td>0</td>\n",
       "    </tr>\n",
       "    <tr>\n",
       "      <th>1</th>\n",
       "      <td>2615</td>\n",
       "      <td>12.0</td>\n",
       "      <td>14.02.2021</td>\n",
       "      <td>Unity</td>\n",
       "      <td>0</td>\n",
       "    </tr>\n",
       "    <tr>\n",
       "      <th>2</th>\n",
       "      <td>2643</td>\n",
       "      <td>14.0</td>\n",
       "      <td>21.02.2021</td>\n",
       "      <td>Веб-дизайн</td>\n",
       "      <td>1</td>\n",
       "    </tr>\n",
       "    <tr>\n",
       "      <th>3</th>\n",
       "      <td>2968</td>\n",
       "      <td>11.0</td>\n",
       "      <td>24.01.2021</td>\n",
       "      <td>Python Базовый</td>\n",
       "      <td>0</td>\n",
       "    </tr>\n",
       "    <tr>\n",
       "      <th>4</th>\n",
       "      <td>3014</td>\n",
       "      <td>15.0</td>\n",
       "      <td>14.03.2021</td>\n",
       "      <td>Веб-дизайн</td>\n",
       "      <td>1</td>\n",
       "    </tr>\n",
       "  </tbody>\n",
       "</table>\n",
       "</div>"
      ],
      "text/plain": [
       "     id   age Дата первого занятия            Курс  М2\n",
       "0  2538  11.0           28.02.2021           Unity   0\n",
       "1  2615  12.0           14.02.2021           Unity   0\n",
       "2  2643  14.0           21.02.2021      Веб-дизайн   1\n",
       "3  2968  11.0           24.01.2021  Python Базовый   0\n",
       "4  3014  15.0           14.03.2021      Веб-дизайн   1"
      ]
     },
     "execution_count": 247,
     "metadata": {},
     "output_type": "execute_result"
    }
   ],
   "source": [
    "df = pd.read_csv('/Users/zvizda/Downloads/2021.csv')\n",
    "df.info()\n",
    "df.head()"
   ]
  },
  {
   "cell_type": "markdown",
   "metadata": {},
   "source": [
    "Даты загружены в неверном формате, а так же есть пропуски"
   ]
  },
  {
   "cell_type": "markdown",
   "metadata": {},
   "source": [
    "Переименуем для удобства колонки в данных и заменим формат даты"
   ]
  },
  {
   "cell_type": "code",
   "execution_count": 248,
   "metadata": {},
   "outputs": [
    {
     "name": "stdout",
     "output_type": "stream",
     "text": [
      "<class 'pandas.core.frame.DataFrame'>\n",
      "RangeIndex: 2172 entries, 0 to 2171\n",
      "Data columns (total 5 columns):\n",
      " #   Column      Non-Null Count  Dtype         \n",
      "---  ------      --------------  -----         \n",
      " 0   id          2172 non-null   int64         \n",
      " 1   age         2022 non-null   float64       \n",
      " 2   first_date  2172 non-null   datetime64[ns]\n",
      " 3   course      2172 non-null   object        \n",
      " 4   m2          2172 non-null   int64         \n",
      "dtypes: datetime64[ns](1), float64(1), int64(2), object(1)\n",
      "memory usage: 85.0+ KB\n"
     ]
    }
   ],
   "source": [
    "df.columns = ['id','age','first_date', 'course', 'm2']\n",
    "df['first_date'] = pd.to_datetime(df['first_date'])\n",
    "df.info()"
   ]
  },
  {
   "cell_type": "markdown",
   "metadata": {},
   "source": [
    "В столбце возраст есть пропуски, нет данных о 150 студентах. Проверим есть ли повторяющиеся значения в столбце id."
   ]
  },
  {
   "cell_type": "code",
   "execution_count": 249,
   "metadata": {},
   "outputs": [
    {
     "data": {
      "text/plain": [
       "2172"
      ]
     },
     "execution_count": 249,
     "metadata": {},
     "output_type": "execute_result"
    }
   ],
   "source": [
    "len(df['id'].unique())"
   ]
  },
  {
   "cell_type": "markdown",
   "metadata": {},
   "source": [
    "Кол-во уникальный значений в столбце совпадает с кол-ом строк, значит по id восстановить возраст не получится. Других вариантов с текущими данными нет. для 2-го задания возраст студента не важен, а для 3-го придется убрать. "
   ]
  },
  {
   "cell_type": "markdown",
   "metadata": {},
   "source": [
    "Проведем проверку на дубликаты"
   ]
  },
  {
   "cell_type": "code",
   "execution_count": 250,
   "metadata": {
    "scrolled": true
   },
   "outputs": [
    {
     "name": "stdout",
     "output_type": "stream",
     "text": [
      "<class 'pandas.core.frame.DataFrame'>\n",
      "Int64Index: 0 entries\n",
      "Data columns (total 5 columns):\n",
      " #   Column      Non-Null Count  Dtype         \n",
      "---  ------      --------------  -----         \n",
      " 0   id          0 non-null      int64         \n",
      " 1   age         0 non-null      float64       \n",
      " 2   first_date  0 non-null      datetime64[ns]\n",
      " 3   course      0 non-null      object        \n",
      " 4   m2          0 non-null      int64         \n",
      "dtypes: datetime64[ns](1), float64(1), int64(2), object(1)\n",
      "memory usage: 0.0+ bytes\n"
     ]
    }
   ],
   "source": [
    "dupl = df[df.duplicated()]\n",
    "dupl.info()"
   ]
  },
  {
   "cell_type": "markdown",
   "metadata": {},
   "source": [
    "Дубликаты не обнаружены"
   ]
  },
  {
   "cell_type": "markdown",
   "metadata": {},
   "source": [
    "### Задание 2. \n",
    "Учебный отдел обратился с просьбой о создании аналитического отчёта. Необходимо предоставить график по оттоку учеников в разрезе 3х курсов: Python Базовый, Веб-дизайн и Unity. Нас интересует отток только при переходе с первого модуля обучения на второй. Результатом отчёта будет являться график, состоящий из столбчатых диаграмм. Ось OX - курсы, OY - количество учеников. Столбцов на графике должно быть минимум 6 (по 2 на каждый курс). В первых столбцах каждого курса - количество учеников на первом модуле, во вторых столбцах - количество учеников на втором модуле. Также необходимо добавить дополнительную ось OY с ломаной линией для наглядного представления доли оттока. Например, по курсу Python Базовый на первом модуле было 100 учеников, на втором модуле осталось 60, следовательно, доля оттока составляет 40%. Помимо графика предоставьте короткий письменный вывод о результатах проведенного исследования."
   ]
  },
  {
   "cell_type": "markdown",
   "metadata": {},
   "source": [
    "Из описания не совсем понятно если студент закончил первый модуль 01.04.2021 можно ли его считать выбывшим или он просто не успел начать модуль 2? через какой промежуток времени после завершения первого модуля начинается второй, про это в условии нет. будем думать что 1 день у студента точно есть. "
   ]
  },
  {
   "cell_type": "markdown",
   "metadata": {},
   "source": [
    "Сформируем данные по студентам, которые успели бы закончить 1-ый модуль 31.03.2021, так как модуль длится 4 недели, начать они должны были не позднее 4 марта. "
   ]
  },
  {
   "cell_type": "code",
   "execution_count": 251,
   "metadata": {},
   "outputs": [
    {
     "name": "stdout",
     "output_type": "stream",
     "text": [
      "<class 'pandas.core.frame.DataFrame'>\n",
      "Int64Index: 2021 entries, 0 to 2171\n",
      "Data columns (total 5 columns):\n",
      " #   Column      Non-Null Count  Dtype         \n",
      "---  ------      --------------  -----         \n",
      " 0   id          2021 non-null   int64         \n",
      " 1   age         1882 non-null   float64       \n",
      " 2   first_date  2021 non-null   datetime64[ns]\n",
      " 3   course      2021 non-null   object        \n",
      " 4   m2          2021 non-null   int64         \n",
      "dtypes: datetime64[ns](1), float64(1), int64(2), object(1)\n",
      "memory usage: 94.7+ KB\n"
     ]
    }
   ],
   "source": [
    "df2 = df.query('first_date <= \"04-03-2021\"')\n",
    "df2.info()"
   ]
  },
  {
   "cell_type": "code",
   "execution_count": 252,
   "metadata": {},
   "outputs": [
    {
     "data": {
      "text/html": [
       "<div>\n",
       "<style scoped>\n",
       "    .dataframe tbody tr th:only-of-type {\n",
       "        vertical-align: middle;\n",
       "    }\n",
       "\n",
       "    .dataframe tbody tr th {\n",
       "        vertical-align: top;\n",
       "    }\n",
       "\n",
       "    .dataframe thead th {\n",
       "        text-align: right;\n",
       "    }\n",
       "</style>\n",
       "<table border=\"1\" class=\"dataframe\">\n",
       "  <thead>\n",
       "    <tr style=\"text-align: right;\">\n",
       "      <th>m2</th>\n",
       "      <th>course</th>\n",
       "      <th>0</th>\n",
       "      <th>1</th>\n",
       "    </tr>\n",
       "  </thead>\n",
       "  <tbody>\n",
       "    <tr>\n",
       "      <th>0</th>\n",
       "      <td>Python Базовый</td>\n",
       "      <td>914</td>\n",
       "      <td>505</td>\n",
       "    </tr>\n",
       "    <tr>\n",
       "      <th>1</th>\n",
       "      <td>Unity</td>\n",
       "      <td>127</td>\n",
       "      <td>53</td>\n",
       "    </tr>\n",
       "    <tr>\n",
       "      <th>2</th>\n",
       "      <td>Веб-дизайн</td>\n",
       "      <td>239</td>\n",
       "      <td>183</td>\n",
       "    </tr>\n",
       "  </tbody>\n",
       "</table>\n",
       "</div>"
      ],
      "text/plain": [
       "m2          course    0    1\n",
       "0   Python Базовый  914  505\n",
       "1            Unity  127   53\n",
       "2       Веб-дизайн  239  183"
      ]
     },
     "execution_count": 252,
     "metadata": {},
     "output_type": "execute_result"
    }
   ],
   "source": [
    "z = df2.pivot_table(index='course', columns = 'm2', values = 'id', aggfunc = 'count'). reset_index()\n",
    "z"
   ]
  },
  {
   "cell_type": "code",
   "execution_count": 253,
   "metadata": {},
   "outputs": [
    {
     "data": {
      "text/html": [
       "<div>\n",
       "<style scoped>\n",
       "    .dataframe tbody tr th:only-of-type {\n",
       "        vertical-align: middle;\n",
       "    }\n",
       "\n",
       "    .dataframe tbody tr th {\n",
       "        vertical-align: top;\n",
       "    }\n",
       "\n",
       "    .dataframe thead th {\n",
       "        text-align: right;\n",
       "    }\n",
       "</style>\n",
       "<table border=\"1\" class=\"dataframe\">\n",
       "  <thead>\n",
       "    <tr style=\"text-align: right;\">\n",
       "      <th></th>\n",
       "      <th>Курс</th>\n",
       "      <th>Ушли в отток</th>\n",
       "      <th>Студенты 2 модуля</th>\n",
       "      <th>Студенты 1 модуля</th>\n",
       "      <th>% оттока</th>\n",
       "    </tr>\n",
       "  </thead>\n",
       "  <tbody>\n",
       "    <tr>\n",
       "      <th>0</th>\n",
       "      <td>Python Базовый</td>\n",
       "      <td>914</td>\n",
       "      <td>505</td>\n",
       "      <td>1419</td>\n",
       "      <td>64.0</td>\n",
       "    </tr>\n",
       "    <tr>\n",
       "      <th>1</th>\n",
       "      <td>Unity</td>\n",
       "      <td>127</td>\n",
       "      <td>53</td>\n",
       "      <td>180</td>\n",
       "      <td>71.0</td>\n",
       "    </tr>\n",
       "    <tr>\n",
       "      <th>2</th>\n",
       "      <td>Веб-дизайн</td>\n",
       "      <td>239</td>\n",
       "      <td>183</td>\n",
       "      <td>422</td>\n",
       "      <td>57.0</td>\n",
       "    </tr>\n",
       "  </tbody>\n",
       "</table>\n",
       "</div>"
      ],
      "text/plain": [
       "             Курс  Ушли в отток  Студенты 2 модуля  Студенты 1 модуля  \\\n",
       "0  Python Базовый           914                505               1419   \n",
       "1           Unity           127                 53                180   \n",
       "2      Веб-дизайн           239                183                422   \n",
       "\n",
       "   % оттока  \n",
       "0      64.0  \n",
       "1      71.0  \n",
       "2      57.0  "
      ]
     },
     "execution_count": 253,
     "metadata": {},
     "output_type": "execute_result"
    }
   ],
   "source": [
    "z['1m'] = z[0]+z[1]\n",
    "z['%'] = (z[0]/z['1m'] *100).round(0)\n",
    "z.columns=['Курс', 'Ушли в отток', 'Студенты 2 модуля', 'Студенты 1 модуля', '% оттока']\n",
    "z"
   ]
  },
  {
   "cell_type": "markdown",
   "metadata": {},
   "source": [
    "Добавим дополнительный столбец для удобного построения графика"
   ]
  },
  {
   "cell_type": "code",
   "execution_count": 254,
   "metadata": {},
   "outputs": [
    {
     "data": {
      "text/html": [
       "<div>\n",
       "<style scoped>\n",
       "    .dataframe tbody tr th:only-of-type {\n",
       "        vertical-align: middle;\n",
       "    }\n",
       "\n",
       "    .dataframe tbody tr th {\n",
       "        vertical-align: top;\n",
       "    }\n",
       "\n",
       "    .dataframe thead th {\n",
       "        text-align: right;\n",
       "    }\n",
       "</style>\n",
       "<table border=\"1\" class=\"dataframe\">\n",
       "  <thead>\n",
       "    <tr style=\"text-align: right;\">\n",
       "      <th></th>\n",
       "      <th>Курс</th>\n",
       "      <th>Ушли в отток</th>\n",
       "      <th>Студенты 2 модуля</th>\n",
       "      <th>Студенты 1 модуля</th>\n",
       "      <th>% оттока</th>\n",
       "      <th>x</th>\n",
       "    </tr>\n",
       "  </thead>\n",
       "  <tbody>\n",
       "    <tr>\n",
       "      <th>0</th>\n",
       "      <td>Python Базовый</td>\n",
       "      <td>914</td>\n",
       "      <td>505</td>\n",
       "      <td>1419</td>\n",
       "      <td>64.0</td>\n",
       "      <td>1</td>\n",
       "    </tr>\n",
       "    <tr>\n",
       "      <th>1</th>\n",
       "      <td>Unity</td>\n",
       "      <td>127</td>\n",
       "      <td>53</td>\n",
       "      <td>180</td>\n",
       "      <td>71.0</td>\n",
       "      <td>2</td>\n",
       "    </tr>\n",
       "    <tr>\n",
       "      <th>2</th>\n",
       "      <td>Веб-дизайн</td>\n",
       "      <td>239</td>\n",
       "      <td>183</td>\n",
       "      <td>422</td>\n",
       "      <td>57.0</td>\n",
       "      <td>3</td>\n",
       "    </tr>\n",
       "  </tbody>\n",
       "</table>\n",
       "</div>"
      ],
      "text/plain": [
       "             Курс  Ушли в отток  Студенты 2 модуля  Студенты 1 модуля  \\\n",
       "0  Python Базовый           914                505               1419   \n",
       "1           Unity           127                 53                180   \n",
       "2      Веб-дизайн           239                183                422   \n",
       "\n",
       "   % оттока  x  \n",
       "0      64.0  1  \n",
       "1      71.0  2  \n",
       "2      57.0  3  "
      ]
     },
     "execution_count": 254,
     "metadata": {},
     "output_type": "execute_result"
    }
   ],
   "source": [
    "z['x'] = [1,2,3]"
   ]
  },
  {
   "cell_type": "code",
   "execution_count": 255,
   "metadata": {},
   "outputs": [
    {
     "data": {
      "image/png": "[encoded data removed]",
      "text/plain": [
       "<Figure size 1080x432 with 2 Axes>"
      ]
     },
     "metadata": {
      "needs_background": "light"
     },
     "output_type": "display_data"
    }
   ],
   "source": [
    "y1 = z['Ушли в отток']\n",
    "y2 = z['Студенты 1 модуля']\n",
    "width = 0.3\n",
    "x = z['x']\n",
    "fig, ax = plt.subplots()\n",
    "r1 = ax.bar(x - width/2, y1, width, label='Ушли в отток')\n",
    "r2 = ax.bar(x + width/2, y2, width, label='Студенты 1 модуля')\n",
    "ax1 = ax.twinx()\n",
    "ax1.plot(z['x'],z['% оттока'],color='b')\n",
    "fig.set_figwidth(15)    \n",
    "fig.set_figheight(6)  \n",
    "ax.set_title('Отток учеников в разрезе 3х курсов: Python Базовый, Веб-дизайн и Unity.')\n",
    "ax.set_xticks(x)\n",
    "ax.set_xticklabels(['Python Базовый','Unity','Веб-дизайн'])\n",
    "ax.set_ylabel('Количество студентов')\n",
    "ax1.set_ylabel('% Оттока')\n",
    "ax.legend()\n",
    "plt.grid()\n",
    "plt.show()"
   ]
  },
  {
   "cell_type": "markdown",
   "metadata": {},
   "source": [
    "### Вывод:\n",
    "Самый низкий процент оттока на курсе по веб-дизайну 57% ,самый высокий по Unity 71%. Больше всего студентов занимаются на курсе phyton базовый, в нем процент оттока составляет 64%. Показатели оттока находятся примерно на одном уровне для всех курсов, можно сказать что из 3-х студентов только один начинает 2-ой модуль. \n",
    "Для выяснения причин такого высокого значения показателя необходимо провести дополнительные исследования."
   ]
  },
  {
   "cell_type": "markdown",
   "metadata": {},
   "source": [
    "### Дополнительное задание. \n",
    "Также учебному отделу хочется увидеть динамику оттока курса Python Базовый по возрастам, чтобы четко определить верхние и нижние границы возраста при формировании новых групп обучения. Существует гипотеза, что дети младше 12 и старше 14 лет чаще переходят в отток. Для того, чтобы принять или опровергнуть гипотезу, необходимо предоставить наглядные данные в виде столбчатых диаграмм (как в первом задании). Ось OX - возраста в порядке возрастания, ось OY - количество учеников. Первые столбцы для каждого возраста - количество учеников на первом модуле обучения, вторые столбцы для каждого возраста - количество учеников на втором модуле обучения. Также необходимо добавить дополнительную ось OY с ломаной линией для наглядного представления доли оттока. Например, на первом модуле обучения в возрасте 10 лет было 20 учеников, на втором модуле осталось 15, следовательно, доля оттока составляет 25%. Помимо графика предоставьте короткий письменный вывод о результатах проведенного исследования."
   ]
  },
  {
   "cell_type": "markdown",
   "metadata": {},
   "source": [
    "Уберем из таблицы студентов без данных о возрасте."
   ]
  },
  {
   "cell_type": "code",
   "execution_count": 256,
   "metadata": {},
   "outputs": [
    {
     "name": "stdout",
     "output_type": "stream",
     "text": [
      "<class 'pandas.core.frame.DataFrame'>\n",
      "Int64Index: 1882 entries, 0 to 2171\n",
      "Data columns (total 5 columns):\n",
      " #   Column      Non-Null Count  Dtype         \n",
      "---  ------      --------------  -----         \n",
      " 0   id          1882 non-null   int64         \n",
      " 1   age         1882 non-null   float64       \n",
      " 2   first_date  1882 non-null   datetime64[ns]\n",
      " 3   course      1882 non-null   object        \n",
      " 4   m2          1882 non-null   int64         \n",
      "dtypes: datetime64[ns](1), float64(1), int64(2), object(1)\n",
      "memory usage: 88.2+ KB\n"
     ]
    }
   ],
   "source": [
    "df3 = df2.dropna()\n",
    "df3.info()"
   ]
  },
  {
   "cell_type": "code",
   "execution_count": 257,
   "metadata": {},
   "outputs": [],
   "source": [
    "df3 = df3.query('course == \"Python Базовый\"')"
   ]
  },
  {
   "cell_type": "code",
   "execution_count": 258,
   "metadata": {},
   "outputs": [
    {
     "data": {
      "text/html": [
       "<div>\n",
       "<style scoped>\n",
       "    .dataframe tbody tr th:only-of-type {\n",
       "        vertical-align: middle;\n",
       "    }\n",
       "\n",
       "    .dataframe tbody tr th {\n",
       "        vertical-align: top;\n",
       "    }\n",
       "\n",
       "    .dataframe thead th {\n",
       "        text-align: right;\n",
       "    }\n",
       "</style>\n",
       "<table border=\"1\" class=\"dataframe\">\n",
       "  <thead>\n",
       "    <tr style=\"text-align: right;\">\n",
       "      <th></th>\n",
       "      <th>Возраст</th>\n",
       "      <th>Ушли в отток</th>\n",
       "      <th>Студенты 2 модуля</th>\n",
       "      <th>Студенты 1 модуля</th>\n",
       "      <th>% оттока</th>\n",
       "    </tr>\n",
       "  </thead>\n",
       "  <tbody>\n",
       "    <tr>\n",
       "      <th>0</th>\n",
       "      <td>8.0</td>\n",
       "      <td>4.0</td>\n",
       "      <td>0.0</td>\n",
       "      <td>4.0</td>\n",
       "      <td>100.0</td>\n",
       "    </tr>\n",
       "    <tr>\n",
       "      <th>1</th>\n",
       "      <td>9.0</td>\n",
       "      <td>2.0</td>\n",
       "      <td>5.0</td>\n",
       "      <td>7.0</td>\n",
       "      <td>29.0</td>\n",
       "    </tr>\n",
       "    <tr>\n",
       "      <th>2</th>\n",
       "      <td>10.0</td>\n",
       "      <td>26.0</td>\n",
       "      <td>15.0</td>\n",
       "      <td>41.0</td>\n",
       "      <td>63.0</td>\n",
       "    </tr>\n",
       "    <tr>\n",
       "      <th>3</th>\n",
       "      <td>11.0</td>\n",
       "      <td>125.0</td>\n",
       "      <td>55.0</td>\n",
       "      <td>180.0</td>\n",
       "      <td>69.0</td>\n",
       "    </tr>\n",
       "    <tr>\n",
       "      <th>4</th>\n",
       "      <td>12.0</td>\n",
       "      <td>258.0</td>\n",
       "      <td>124.0</td>\n",
       "      <td>382.0</td>\n",
       "      <td>68.0</td>\n",
       "    </tr>\n",
       "    <tr>\n",
       "      <th>5</th>\n",
       "      <td>13.0</td>\n",
       "      <td>187.0</td>\n",
       "      <td>130.0</td>\n",
       "      <td>317.0</td>\n",
       "      <td>59.0</td>\n",
       "    </tr>\n",
       "    <tr>\n",
       "      <th>6</th>\n",
       "      <td>14.0</td>\n",
       "      <td>145.0</td>\n",
       "      <td>83.0</td>\n",
       "      <td>228.0</td>\n",
       "      <td>64.0</td>\n",
       "    </tr>\n",
       "    <tr>\n",
       "      <th>7</th>\n",
       "      <td>15.0</td>\n",
       "      <td>74.0</td>\n",
       "      <td>39.0</td>\n",
       "      <td>113.0</td>\n",
       "      <td>65.0</td>\n",
       "    </tr>\n",
       "    <tr>\n",
       "      <th>8</th>\n",
       "      <td>16.0</td>\n",
       "      <td>29.0</td>\n",
       "      <td>15.0</td>\n",
       "      <td>44.0</td>\n",
       "      <td>66.0</td>\n",
       "    </tr>\n",
       "    <tr>\n",
       "      <th>9</th>\n",
       "      <td>17.0</td>\n",
       "      <td>4.0</td>\n",
       "      <td>1.0</td>\n",
       "      <td>5.0</td>\n",
       "      <td>80.0</td>\n",
       "    </tr>\n",
       "  </tbody>\n",
       "</table>\n",
       "</div>"
      ],
      "text/plain": [
       "   Возраст  Ушли в отток  Студенты 2 модуля  Студенты 1 модуля  % оттока\n",
       "0      8.0           4.0                0.0                4.0     100.0\n",
       "1      9.0           2.0                5.0                7.0      29.0\n",
       "2     10.0          26.0               15.0               41.0      63.0\n",
       "3     11.0         125.0               55.0              180.0      69.0\n",
       "4     12.0         258.0              124.0              382.0      68.0\n",
       "5     13.0         187.0              130.0              317.0      59.0\n",
       "6     14.0         145.0               83.0              228.0      64.0\n",
       "7     15.0          74.0               39.0              113.0      65.0\n",
       "8     16.0          29.0               15.0               44.0      66.0\n",
       "9     17.0           4.0                1.0                5.0      80.0"
      ]
     },
     "execution_count": 258,
     "metadata": {},
     "output_type": "execute_result"
    }
   ],
   "source": [
    "w = df3.pivot_table(index='age', columns = 'm2', values = 'id', aggfunc = 'count'). reset_index()\n",
    "w = w.fillna(0)\n",
    "w['all'] = w[0]+w[1]\n",
    "w['%'] = (w[0]/w['all'] *100).round(0)\n",
    "w.columns=['Возраст', 'Ушли в отток', 'Студенты 2 модуля', 'Студенты 1 модуля', '% оттока']\n",
    "w"
   ]
  },
  {
   "cell_type": "code",
   "execution_count": 259,
   "metadata": {},
   "outputs": [
    {
     "data": {
      "image/png": "[encoded data removed]",
      "text/plain": [
       "<Figure size 1440x720 with 2 Axes>"
      ]
     },
     "metadata": {
      "needs_background": "light"
     },
     "output_type": "display_data"
    }
   ],
   "source": [
    "x1 = w['Возраст'] - 0.2\n",
    "x2 = w['Возраст'] + 0.2\n",
    "y1 = w['Ушли в отток']\n",
    "y2 = w['Студенты 1 модуля']\n",
    "fig, ax = plt.subplots()\n",
    "ax.bar(x1, y1, width = 0.4, label = 'Ушли в отток')\n",
    "ax.bar(x2, y2, width = 0.4, label = 'Студенты 1 модуля')\n",
    "ax1 = ax.twinx()\n",
    "ax1.plot(w['Возраст'],w['% оттока'],color='r')\n",
    "fig.set_figwidth(20)    \n",
    "fig.set_figheight(10)  \n",
    "ax.xaxis.set_major_locator(ticker.MultipleLocator(1))\n",
    "ax.legend()\n",
    "ax.set_xlabel('Возраст студента, лет')\n",
    "ax.set_ylabel('Количество студентов')\n",
    "ax1.set_ylabel('% Оттока')\n",
    "plt.grid()\n",
    "plt.title('Динамика оттока курса Python Базовый по возрастам')\n",
    "plt.show()"
   ]
  },
  {
   "cell_type": "markdown",
   "metadata": {},
   "source": [
    "### Вывод:\n",
    "Самый высокий процент оттока у студентов в возрасте 8 лет 100%, самый низкий у студентов 9 лет. Эти две возрастные категории одни из самых малочисленных, делать по ним выводы не стоит.  \n",
    "По графику видно что начиная с 10 и до 16 лел, уровень оттока находится между 60 и 70 %, и лишь в группе 13 лет, снижается ниже 60%. \n",
    "Существует гипотеза, что дети младше 12 и старше 14 лет чаще переходят в отток. На графике видно снижение уровня оттока в этих возрастных группах."
   ]
  },
  {
   "cell_type": "code",
   "execution_count": null,
   "metadata": {},
   "outputs": [],
   "source": [
    "#В задании не указано, но принимать и опровергать гипотезы только по графикам я бы не стала. \n",
    "#Например с помошью хи-квадрата можно проверить статистически значима ли эта разница для этих 2-х выборок. \n",
    "#Мне нравится пользоваться этим счетчиком https://www.evanmiller.org/ab-testing/chi-squared.html\n",
    "# Для текущих условий можно сказать, что разница в оттоке между студентами младше 12 либо страше 14 \n",
    "#и студентами 12-14 лет статистически значима"
   ]
  }
 ],
 "metadata": {
  "kernelspec": {
   "display_name": "Python 3",
   "language": "python",
   "name": "python3"
  },
  "language_info": {
   "codemirror_mode": {
    "name": "ipython",
    "version": 3
   },
   "file_extension": ".py",
   "mimetype": "text/x-python",
   "name": "python",
   "nbconvert_exporter": "python",
   "pygments_lexer": "ipython3",
   "version": "3.8.5"
  }
 },
 "nbformat": 4,
 "nbformat_minor": 4
}
